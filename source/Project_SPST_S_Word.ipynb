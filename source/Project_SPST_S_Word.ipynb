{
 "cells": [
  {
   "cell_type": "markdown",
   "metadata": {},
   "source": [
    "# 파이썬을 활용한 머신러닝\n",
    "## 스피어 피싱 모의훈련 서비스 제작"
   ]
  },
  {
   "cell_type": "markdown",
   "metadata": {},
   "source": [
    "#### 주제 : 개인에 대한 스피어피싱 문구 제작.\n",
    "2안 채택. \n",
    "크롤링 : 완성\n",
    "단어 추출 : 빈도수 미완성, 결정적 의미 추출 완료\n",
    "사전 정의 문장 생성 : 노가다\n",
    "문장 트윗 : 다른 팀이 했던 오픈소스 가져오기\n",
    "결과 : 웹과 연동해 시본사용하든 뭘 사용하든 해야 함\n",
    "\n",
    "1. 빈도수 별 단어 추출\n",
    "2. 사전 정의 문장 생성 집중\n",
    "3. 지속적인 상황 보고"
   ]
  },
  {
   "cell_type": "markdown",
   "metadata": {},
   "source": [
    "### 자연어 처리"
   ]
  },
  {
   "cell_type": "markdown",
   "metadata": {},
   "source": [
    "[konlpy 라이브러리 설치](https://www.youtube.com/watch?v=XQnB0DKlhd8)\n",
    "1. [whl 파일 다운로드](https://www.lfd.uci.edu/~gohlke/pythonlibs/) 사이트에서  jpype를 Crtl + f로 찾아서 다운로드\n",
    "2. 위 파일을 다운받은 위치로 가서 \n",
    "\n",
    "> pip install JPype1-0.6.3-cp37-cp37m-win_amd64.whl\n",
    "\n",
    "> pip install konlpy\n",
    "\n",
    "[konlpy 한글 자연어 처리 라이브러리 참고](https://konlpy-ko.readthedocs.io/ko/v0.4.3/)\n",
    "\n",
    "[한글 및 영어 자연어 처리 참고](https://www.lucypark.kr/courses/2015-dm/text-mining.html)"
   ]
  },
  {
   "cell_type": "markdown",
   "metadata": {},
   "source": [
    "#### 크롤링 데이터 호출"
   ]
  },
  {
   "cell_type": "code",
   "execution_count": 1,
   "metadata": {},
   "outputs": [],
   "source": [
    "import pandas as pd\n",
    "import sqlite3\n",
    "\n",
    "con = sqlite3.connect(\"C:/Users/dsz08/kospi.db\")\n",
    "df = pd.read_sql(\"SELECT * FROM crawlil\",con,index_col=None)"
   ]
  },
  {
   "cell_type": "code",
   "execution_count": 2,
   "metadata": {
    "scrolled": true
   },
   "outputs": [
    {
     "data": {
      "text/html": [
       "<div>\n",
       "<style scoped>\n",
       "    .dataframe tbody tr th:only-of-type {\n",
       "        vertical-align: middle;\n",
       "    }\n",
       "\n",
       "    .dataframe tbody tr th {\n",
       "        vertical-align: top;\n",
       "    }\n",
       "\n",
       "    .dataframe thead th {\n",
       "        text-align: right;\n",
       "    }\n",
       "</style>\n",
       "<table border=\"1\" class=\"dataframe\">\n",
       "  <thead>\n",
       "    <tr style=\"text-align: right;\">\n",
       "      <th></th>\n",
       "      <th>index</th>\n",
       "      <th>id</th>\n",
       "      <th>text</th>\n",
       "      <th>created_at</th>\n",
       "      <th>retweet_count</th>\n",
       "      <th>favorite_count</th>\n",
       "      <th>source</th>\n",
       "      <th>user_id</th>\n",
       "      <th>user_screen_name</th>\n",
       "      <th>user_name</th>\n",
       "      <th>user_created_at</th>\n",
       "      <th>user_description</th>\n",
       "      <th>user_followers_count</th>\n",
       "      <th>user_friends_count</th>\n",
       "      <th>user_location</th>\n",
       "      <th>rtwi</th>\n",
       "      <th>rtwih</th>\n",
       "    </tr>\n",
       "  </thead>\n",
       "  <tbody>\n",
       "    <tr>\n",
       "      <th>0</th>\n",
       "      <td>0</td>\n",
       "      <td>1133594395523948544</td>\n",
       "      <td>Netflix ตลอดชีพไม่ต้องจ่ายรายเดือน\\n-990หารกัน...</td>\n",
       "      <td>2019-05-29 04:42:19</td>\n",
       "      <td>0</td>\n",
       "      <td>0</td>\n",
       "      <td>Twitter for iPhone</td>\n",
       "      <td>276740875</td>\n",
       "      <td>PARKHYUNAING</td>\n",
       "      <td>รับกดบัตร | ขายNetflixตลอดชีพ | ขายเดอะซิมส์4 🎈</td>\n",
       "      <td>2011-04-04 00:23:41</td>\n",
       "      <td>รับกดบัตรทุกคอนรีวิวดี | ขายไอดี Netflix ตลอดช...</td>\n",
       "      <td>1965</td>\n",
       "      <td>576</td>\n",
       "      <td>ลู่ชานโด้คือหัวใจทั้งสามดวง</td>\n",
       "      <td>0</td>\n",
       "      <td>0</td>\n",
       "    </tr>\n",
       "    <tr>\n",
       "      <th>1</th>\n",
       "      <td>1</td>\n",
       "      <td>1133594395301646336</td>\n",
       "      <td>RT @BeMyLight_218: [HD] 190525 SYS IN BRAZIL D...</td>\n",
       "      <td>2019-05-29 04:42:19</td>\n",
       "      <td>891</td>\n",
       "      <td>0</td>\n",
       "      <td>Twitter for Android</td>\n",
       "      <td>1111293595938488320</td>\n",
       "      <td>kiyohobi218</td>\n",
       "      <td>hobimylove</td>\n",
       "      <td>2019-03-28 15:46:54</td>\n",
       "      <td>💜💜BTS jhope 💜💜</td>\n",
       "      <td>41</td>\n",
       "      <td>238</td>\n",
       "      <td>People's Republic of China</td>\n",
       "      <td>@BeMyLight_218</td>\n",
       "      <td>https://twitter.com/@BeMyLight_218</td>\n",
       "    </tr>\n",
       "    <tr>\n",
       "      <th>2</th>\n",
       "      <td>2</td>\n",
       "      <td>1133594386107981825</td>\n",
       "      <td>RT @BITBYBIT_JK: 😭😭😭\\n#정국 #방탄소년단 #BTS⁠ \\n#JUNG...</td>\n",
       "      <td>2019-05-29 04:42:17</td>\n",
       "      <td>3981</td>\n",
       "      <td>0</td>\n",
       "      <td>Twitter for Android</td>\n",
       "      <td>1063925857285259264</td>\n",
       "      <td>galaxynarwhal</td>\n",
       "      <td>jess🐰</td>\n",
       "      <td>2018-11-17 22:44:25</td>\n",
       "      <td>20 | kpop fa + anime | bts, loona, taibani, sv...</td>\n",
       "      <td>101</td>\n",
       "      <td>44</td>\n",
       "      <td>she/her (also florida)</td>\n",
       "      <td>@BITBYBIT_JK</td>\n",
       "      <td>https://twitter.com/@BITBYBIT_JK</td>\n",
       "    </tr>\n",
       "    <tr>\n",
       "      <th>3</th>\n",
       "      <td>3</td>\n",
       "      <td>1133594381737316352</td>\n",
       "      <td>기본 인원수 다 채워서 대관완료했구요!\\n인원수는 상관없으니 대관\\n신청하고 싶은 ...</td>\n",
       "      <td>2019-05-29 04:42:16</td>\n",
       "      <td>0</td>\n",
       "      <td>0</td>\n",
       "      <td>Twitter for Android</td>\n",
       "      <td>902297486416416768</td>\n",
       "      <td>lsm_8638</td>\n",
       "      <td>찌미거니</td>\n",
       "      <td>2017-08-28 22:30:59</td>\n",
       "      <td></td>\n",
       "      <td>162</td>\n",
       "      <td>26</td>\n",
       "      <td></td>\n",
       "      <td>0</td>\n",
       "      <td>0</td>\n",
       "    </tr>\n",
       "    <tr>\n",
       "      <th>4</th>\n",
       "      <td>4</td>\n",
       "      <td>1133594381519187969</td>\n",
       "      <td>RT @VT_cosmetics: [NEW! L’ATELIER PERFUME EVEN...</td>\n",
       "      <td>2019-05-29 04:42:16</td>\n",
       "      <td>20572</td>\n",
       "      <td>0</td>\n",
       "      <td>Twitter for Android</td>\n",
       "      <td>768568437492768769</td>\n",
       "      <td>StanSope24_7</td>\n",
       "      <td>bts trash💜</td>\n",
       "      <td>2016-08-24 21:59:29</td>\n",
       "      <td>hoseok is my bag im his trash💜\\n\\nim bts trash...</td>\n",
       "      <td>5</td>\n",
       "      <td>61</td>\n",
       "      <td>my bed watching bts videos</td>\n",
       "      <td>@VT_cosmetics</td>\n",
       "      <td>https://twitter.com/@VT_cosmetics</td>\n",
       "    </tr>\n",
       "    <tr>\n",
       "      <th>5</th>\n",
       "      <td>5</td>\n",
       "      <td>1133594380483420160</td>\n",
       "      <td>RT @taehyvngpics: 🇧🇷 \\n\\n©hoseult\\n\\n#방탄소년단 #뷔...</td>\n",
       "      <td>2019-05-29 04:42:16</td>\n",
       "      <td>285</td>\n",
       "      <td>0</td>\n",
       "      <td>Twitter Web App</td>\n",
       "      <td>964906277473222656</td>\n",
       "      <td>ktalm95</td>\n",
       "      <td>🖤</td>\n",
       "      <td>2018-02-17 16:55:58</td>\n",
       "      <td>BTS💛</td>\n",
       "      <td>6</td>\n",
       "      <td>30</td>\n",
       "      <td>Miami, FL</td>\n",
       "      <td>@taehyvngpics</td>\n",
       "      <td>https://twitter.com/@taehyvngpics</td>\n",
       "    </tr>\n",
       "    <tr>\n",
       "      <th>6</th>\n",
       "      <td>6</td>\n",
       "      <td>1133594379807969280</td>\n",
       "      <td>RT @1992Earthh: พ่อบังพูดถึงตอนเจอบังครั้งแรก ...</td>\n",
       "      <td>2019-05-29 04:42:15</td>\n",
       "      <td>751</td>\n",
       "      <td>0</td>\n",
       "      <td>Twitter for Android</td>\n",
       "      <td>1065093221779263488</td>\n",
       "      <td>GustsyM</td>\n",
       "      <td>gustsy_mks</td>\n",
       "      <td>2018-11-21 04:03:07</td>\n",
       "      <td>love...</td>\n",
       "      <td>15</td>\n",
       "      <td>175</td>\n",
       "      <td></td>\n",
       "      <td>@1992Earthh</td>\n",
       "      <td>https://twitter.com/@1992Earthh</td>\n",
       "    </tr>\n",
       "    <tr>\n",
       "      <th>7</th>\n",
       "      <td>7</td>\n",
       "      <td>1133594379061538816</td>\n",
       "      <td>RT @taevideos: #태형 #뷔 #방탄소년단\\n@BTS_twt https:/...</td>\n",
       "      <td>2019-05-29 04:42:15</td>\n",
       "      <td>220</td>\n",
       "      <td>0</td>\n",
       "      <td>Twitter for iPhone</td>\n",
       "      <td>1122175215251918853</td>\n",
       "      <td>CamilitaxUwu</td>\n",
       "      <td>Camilitax Uwu</td>\n",
       "      <td>2019-04-27 16:26:35</td>\n",
       "      <td>#Skereeee\\nArmy forever</td>\n",
       "      <td>1</td>\n",
       "      <td>105</td>\n",
       "      <td></td>\n",
       "      <td>@taevideos</td>\n",
       "      <td>https://twitter.com/@taevideos</td>\n",
       "    </tr>\n",
       "    <tr>\n",
       "      <th>8</th>\n",
       "      <td>8</td>\n",
       "      <td>1133594378222489601</td>\n",
       "      <td>RT @EXOPhils: [PIC] 190524 #EXO #SUHO - Off-Wh...</td>\n",
       "      <td>2019-05-29 04:42:15</td>\n",
       "      <td>1096</td>\n",
       "      <td>0</td>\n",
       "      <td>Twitter for Android</td>\n",
       "      <td>1124312166004170754</td>\n",
       "      <td>mikkyyui</td>\n",
       "      <td>nyeac nyeac nyeac</td>\n",
       "      <td>2019-05-03 13:58:03</td>\n",
       "      <td>broke potato | shawol•carat•nctzen•exo-l•treas...</td>\n",
       "      <td>70</td>\n",
       "      <td>347</td>\n",
       "      <td></td>\n",
       "      <td>@EXOPhils</td>\n",
       "      <td>https://twitter.com/@EXOPhils</td>\n",
       "    </tr>\n",
       "    <tr>\n",
       "      <th>9</th>\n",
       "      <td>9</td>\n",
       "      <td>1133594374921629696</td>\n",
       "      <td>RT @USBTSARMY: BTS 10th Japanese Single \\n\\n'L...</td>\n",
       "      <td>2019-05-29 04:42:14</td>\n",
       "      <td>1240</td>\n",
       "      <td>0</td>\n",
       "      <td>Twitter for Android</td>\n",
       "      <td>1904116434</td>\n",
       "      <td>paco1814</td>\n",
       "      <td>쑨뎅이</td>\n",
       "      <td>2013-09-25 12:57:13</td>\n",
       "      <td>짐니💛짐니💛</td>\n",
       "      <td>50</td>\n",
       "      <td>104</td>\n",
       "      <td>우리집</td>\n",
       "      <td>@USBTSARMY</td>\n",
       "      <td>https://twitter.com/@USBTSARMY</td>\n",
       "    </tr>\n",
       "  </tbody>\n",
       "</table>\n",
       "</div>"
      ],
      "text/plain": [
       "   index                   id  \\\n",
       "0      0  1133594395523948544   \n",
       "1      1  1133594395301646336   \n",
       "2      2  1133594386107981825   \n",
       "3      3  1133594381737316352   \n",
       "4      4  1133594381519187969   \n",
       "5      5  1133594380483420160   \n",
       "6      6  1133594379807969280   \n",
       "7      7  1133594379061538816   \n",
       "8      8  1133594378222489601   \n",
       "9      9  1133594374921629696   \n",
       "\n",
       "                                                text           created_at  \\\n",
       "0  Netflix ตลอดชีพไม่ต้องจ่ายรายเดือน\\n-990หารกัน...  2019-05-29 04:42:19   \n",
       "1  RT @BeMyLight_218: [HD] 190525 SYS IN BRAZIL D...  2019-05-29 04:42:19   \n",
       "2  RT @BITBYBIT_JK: 😭😭😭\\n#정국 #방탄소년단 #BTS⁠ \\n#JUNG...  2019-05-29 04:42:17   \n",
       "3  기본 인원수 다 채워서 대관완료했구요!\\n인원수는 상관없으니 대관\\n신청하고 싶은 ...  2019-05-29 04:42:16   \n",
       "4  RT @VT_cosmetics: [NEW! L’ATELIER PERFUME EVEN...  2019-05-29 04:42:16   \n",
       "5  RT @taehyvngpics: 🇧🇷 \\n\\n©hoseult\\n\\n#방탄소년단 #뷔...  2019-05-29 04:42:16   \n",
       "6  RT @1992Earthh: พ่อบังพูดถึงตอนเจอบังครั้งแรก ...  2019-05-29 04:42:15   \n",
       "7  RT @taevideos: #태형 #뷔 #방탄소년단\\n@BTS_twt https:/...  2019-05-29 04:42:15   \n",
       "8  RT @EXOPhils: [PIC] 190524 #EXO #SUHO - Off-Wh...  2019-05-29 04:42:15   \n",
       "9  RT @USBTSARMY: BTS 10th Japanese Single \\n\\n'L...  2019-05-29 04:42:14   \n",
       "\n",
       "   retweet_count  favorite_count               source              user_id  \\\n",
       "0              0               0   Twitter for iPhone            276740875   \n",
       "1            891               0  Twitter for Android  1111293595938488320   \n",
       "2           3981               0  Twitter for Android  1063925857285259264   \n",
       "3              0               0  Twitter for Android   902297486416416768   \n",
       "4          20572               0  Twitter for Android   768568437492768769   \n",
       "5            285               0      Twitter Web App   964906277473222656   \n",
       "6            751               0  Twitter for Android  1065093221779263488   \n",
       "7            220               0   Twitter for iPhone  1122175215251918853   \n",
       "8           1096               0  Twitter for Android  1124312166004170754   \n",
       "9           1240               0  Twitter for Android           1904116434   \n",
       "\n",
       "  user_screen_name                                        user_name  \\\n",
       "0     PARKHYUNAING  รับกดบัตร | ขายNetflixตลอดชีพ | ขายเดอะซิมส์4 🎈   \n",
       "1      kiyohobi218                                       hobimylove   \n",
       "2    galaxynarwhal                                            jess🐰   \n",
       "3         lsm_8638                                             찌미거니   \n",
       "4     StanSope24_7                                       bts trash💜   \n",
       "5          ktalm95                                                🖤   \n",
       "6          GustsyM                                       gustsy_mks   \n",
       "7     CamilitaxUwu                                    Camilitax Uwu   \n",
       "8         mikkyyui                                nyeac nyeac nyeac   \n",
       "9         paco1814                                              쑨뎅이   \n",
       "\n",
       "       user_created_at                                   user_description  \\\n",
       "0  2011-04-04 00:23:41  รับกดบัตรทุกคอนรีวิวดี | ขายไอดี Netflix ตลอดช...   \n",
       "1  2019-03-28 15:46:54                                     💜💜BTS jhope 💜💜   \n",
       "2  2018-11-17 22:44:25  20 | kpop fa + anime | bts, loona, taibani, sv...   \n",
       "3  2017-08-28 22:30:59                                                      \n",
       "4  2016-08-24 21:59:29  hoseok is my bag im his trash💜\\n\\nim bts trash...   \n",
       "5  2018-02-17 16:55:58                                               BTS💛   \n",
       "6  2018-11-21 04:03:07                                            love...   \n",
       "7  2019-04-27 16:26:35                            #Skereeee\\nArmy forever   \n",
       "8  2019-05-03 13:58:03  broke potato | shawol•carat•nctzen•exo-l•treas...   \n",
       "9  2013-09-25 12:57:13                                             짐니💛짐니💛   \n",
       "\n",
       "   user_followers_count  user_friends_count                user_location  \\\n",
       "0                  1965                 576  ลู่ชานโด้คือหัวใจทั้งสามดวง   \n",
       "1                    41                 238   People's Republic of China   \n",
       "2                   101                  44       she/her (also florida)   \n",
       "3                   162                  26                                \n",
       "4                     5                  61   my bed watching bts videos   \n",
       "5                     6                  30                    Miami, FL   \n",
       "6                    15                 175                                \n",
       "7                     1                 105                                \n",
       "8                    70                 347                                \n",
       "9                    50                 104                          우리집   \n",
       "\n",
       "             rtwi                               rtwih  \n",
       "0               0                                   0  \n",
       "1  @BeMyLight_218  https://twitter.com/@BeMyLight_218  \n",
       "2    @BITBYBIT_JK    https://twitter.com/@BITBYBIT_JK  \n",
       "3               0                                   0  \n",
       "4   @VT_cosmetics   https://twitter.com/@VT_cosmetics  \n",
       "5   @taehyvngpics   https://twitter.com/@taehyvngpics  \n",
       "6     @1992Earthh     https://twitter.com/@1992Earthh  \n",
       "7      @taevideos      https://twitter.com/@taevideos  \n",
       "8       @EXOPhils       https://twitter.com/@EXOPhils  \n",
       "9      @USBTSARMY      https://twitter.com/@USBTSARMY  "
      ]
     },
     "execution_count": 2,
     "metadata": {},
     "output_type": "execute_result"
    }
   ],
   "source": [
    "df.head(10)"
   ]
  },
  {
   "cell_type": "markdown",
   "metadata": {},
   "source": [
    "#### 분리"
   ]
  },
  {
   "cell_type": "code",
   "execution_count": 11,
   "metadata": {},
   "outputs": [
    {
     "name": "stdout",
     "output_type": "stream",
     "text": [
      "RT @BTSLAB_twt: [#BTSxNEWs]\n",
      "웸블리 매진→팝업스토어 장사진\n",
      "🇬🇧한복판서 체감한 방탄소년단 인기\n",
      "\n",
      "🏟6월 1~2일 #BTSxWembley\n",
      "BTS POP-UP STORE 런던 뜨거운 관심\n",
      "상품 구매, 사진 촬영, 노래, 춤 추며\n",
      "축…\n",
      "<Text: idol>\n",
      "140\n",
      "85\n"
     ]
    },
    {
     "data": {
      "image/png": "[encoded data removed]",
      "text/plain": [
       "<Figure size 432x288 with 1 Axes>"
      ]
     },
     "metadata": {
      "needs_background": "light"
     },
     "output_type": "display_data"
    }
   ],
   "source": [
    "import nltk\n",
    "\n",
    "ptr = 55\n",
    "ind = list(df[\"text\"])[ptr]\n",
    "ko = nltk.Text(ind,name=\"idol\")\n",
    "\n",
    "print(ind)\n",
    "print(ko)\n",
    "print(len(ko.tokens))\n",
    "print(len(set(ko.tokens)))\n",
    "\n",
    "ko.vocab()\n",
    "ko.plot(50)"
   ]
  },
  {
   "cell_type": "code",
   "execution_count": null,
   "metadata": {
    "scrolled": true
   },
   "outputs": [],
   "source": [
    "from konlpy.tag import Twitter\n",
    "t = Twitter()\n",
    "tags_ko = t.pos(ind)\n",
    "tags_ko"
   ]
  },
  {
   "cell_type": "markdown",
   "metadata": {},
   "source": [
    "#### 한글폰트 설정"
   ]
  },
  {
   "cell_type": "code",
   "execution_count": 9,
   "metadata": {},
   "outputs": [
    {
     "name": "stdout",
     "output_type": "stream",
     "text": [
      "RT @BTSLAB_twt: [#BTSxNEWs]\n",
      "웸블리 매진→팝업스토어 장사진\n",
      "🇬🇧한복판서 체감한 방탄소년단 인기\n",
      "\n",
      "🏟6월 1~2일 #BTSxWembley\n",
      "BTS POP-UP STORE 런던 뜨거운 관심\n",
      "상품 구매, 사진 촬영, 노래, 춤 추며\n",
      "축…\n"
     ]
    }
   ],
   "source": [
    "f = open(\"dataM.txt\",'w')\n",
    "try:\n",
    "    data = ind\n",
    "    f.write(data)\n",
    "    f.close()\n",
    "except:\n",
    "    print(ind)"
   ]
  },
  {
   "cell_type": "code",
   "execution_count": 104,
   "metadata": {},
   "outputs": [
    {
     "name": "stdout",
     "output_type": "stream",
     "text": [
      "959\n"
     ]
    }
   ],
   "source": [
    "import matplotlib.font_manager as fm\n",
    "font_list = fm.findSystemFonts(fontpaths=None,fontext='ttf')\n",
    "print(len(font_list))"
   ]
  },
  {
   "cell_type": "code",
   "execution_count": 105,
   "metadata": {},
   "outputs": [
    {
     "data": {
      "text/plain": [
       "[('NanumGothic', 'NanumGothic'),\n",
       " ('NanumGothic', 'NanumGothic'),\n",
       " ('NanumGothic', 'NanumGothic'),\n",
       " ('NanumGothic', 'NanumGothic')]"
      ]
     },
     "execution_count": 105,
     "metadata": {},
     "output_type": "execute_result"
    }
   ],
   "source": [
    "[(f.name, f.name) for f in fm.fontManager.ttflist if 'Nanum' in f.name]"
   ]
  },
  {
   "cell_type": "code",
   "execution_count": 8,
   "metadata": {},
   "outputs": [
    {
     "name": "stdout",
     "output_type": "stream",
     "text": [
      "NanumGothic\n"
     ]
    }
   ],
   "source": [
    "font_fname = 'C:/Windows/Fonts/NanumGothic.ttf'\n",
    "font_family = fm.FontProperties(fname=font_fname).get_name()\n",
    "\n",
    "print(font_family)"
   ]
  },
  {
   "cell_type": "code",
   "execution_count": 9,
   "metadata": {},
   "outputs": [],
   "source": [
    "font_fname = 'C:/Windows/Fonts/NanumGothic.ttf'\n",
    "font_family = fm.FontProperties(fname=font_fname).get_name()\n",
    "plt.rcParams[\"font.family\"] = font_family\n",
    "\n",
    "plt.rcParams['font.size'] = 24.\n",
    "plt.rcParams['xtick.labelsize'] = 15.\n",
    "plt.rcParams['ytick.labelsize'] = 15.\n",
    "plt.rcParams['axes.labelsize'] = 20."
   ]
  },
  {
   "cell_type": "markdown",
   "metadata": {},
   "source": [
    "#### 단어"
   ]
  },
  {
   "cell_type": "code",
   "execution_count": 12,
   "metadata": {},
   "outputs": [
    {
     "name": "stdout",
     "output_type": "stream",
     "text": [
      "          Word  Counts       Per\n",
      "0           rt       1  5.555556\n",
      "1     tslabwt:       1  5.555556\n",
      "2   tsxnews웸블리       1  5.555556\n",
      "3        팝업스토어       1  5.555556\n",
      "4         한복판서       1  5.555556\n",
      "5          체감한       1  5.555556\n",
      "6        방탄소년단       1  5.555556\n",
      "7            월       1  5.555556\n",
      "8           1일       1  5.555556\n",
      "9   tsxwembley       1  5.555556\n",
      "10         bts       1  5.555556\n",
      "11        popp       1  5.555556\n",
      "12       store       1  5.555556\n",
      "13          런던       1  5.555556\n",
      "14         뜨거운       1  5.555556\n",
      "15          상품       1  5.555556\n",
      "16          사진       1  5.555556\n",
      "17           춤       1  5.555556\n",
      "expect word 30 :           Word  Counts       Per\n",
      "0           rt       1  5.555556\n",
      "1     tslabwt:       1  5.555556\n",
      "2   tsxnews웸블리       1  5.555556\n",
      "3        팝업스토어       1  5.555556\n",
      "4         한복판서       1  5.555556\n",
      "5          체감한       1  5.555556\n",
      "6        방탄소년단       1  5.555556\n",
      "7            월       1  5.555556\n",
      "8           1일       1  5.555556\n",
      "9   tsxwembley       1  5.555556\n",
      "10         bts       1  5.555556\n",
      "11        popp       1  5.555556\n",
      "12       store       1  5.555556\n",
      "13          런던       1  5.555556\n",
      "14         뜨거운       1  5.555556\n",
      "15          상품       1  5.555556\n",
      "16          사진       1  5.555556\n",
      "17           춤       1  5.555556\n"
     ]
    },
    {
     "data": {
      "image/png": "[encoded data removed]",
      "text/plain": [
       "<Figure size 432x288 with 1 Axes>"
      ]
     },
     "metadata": {
      "needs_background": "light"
     },
     "output_type": "display_data"
    },
    {
     "name": "stdout",
     "output_type": "stream",
     "text": [
      "None expect word 30:           Word  Counts       Per\n",
      "0           rt       1  5.555556\n",
      "1     tslabwt:       1  5.555556\n",
      "2   tsxnews웸블리       1  5.555556\n",
      "3        팝업스토어       1  5.555556\n",
      "4         한복판서       1  5.555556\n",
      "5          체감한       1  5.555556\n",
      "6        방탄소년단       1  5.555556\n",
      "7            월       1  5.555556\n",
      "8           1일       1  5.555556\n",
      "9   tsxwembley       1  5.555556\n",
      "10         bts       1  5.555556\n",
      "11        popp       1  5.555556\n",
      "12       store       1  5.555556\n",
      "13          런던       1  5.555556\n",
      "14         뜨거운       1  5.555556\n",
      "15          상품       1  5.555556\n",
      "16          사진       1  5.555556\n",
      "17           춤       1  5.555556\n"
     ]
    },
    {
     "data": {
      "image/png": "[encoded data removed]",
      "text/plain": [
       "<Figure size 432x288 with 1 Axes>"
      ]
     },
     "metadata": {
      "needs_background": "light"
     },
     "output_type": "display_data"
    },
    {
     "name": "stdout",
     "output_type": "stream",
     "text": [
      "word 30: Empty DataFrame\n",
      "Columns: [Number, Counts, Per]\n",
      "Index: []\n"
     ]
    },
    {
     "data": {
      "image/png": "[encoded data removed]",
      "text/plain": [
       "<Figure size 432x288 with 1 Axes>"
      ]
     },
     "metadata": {
      "needs_background": "light"
     },
     "output_type": "display_data"
    }
   ],
   "source": [
    "from collections import Counter\n",
    "import re\n",
    "import pandas as pd\n",
    "import numpy as np\n",
    "import codecs\n",
    "import matplotlib.pyplot as plt\n",
    "import matplotlib as mpl\n",
    "import matplotlib.font_manager as fm\n",
    "\n",
    "#utf8_f = codecs.open(\"dataM.txt\", 'r', encoding = 'utf-8')\n",
    "\n",
    "data = ind\n",
    "parse = re.sub(\"[^0-9a-zA-Z\\\\s]+[^ ㄱ - ㅣ 가-힣]\", \"\", data) # 특수문자 제거\n",
    "parse = parse.lower().split()\n",
    "\n",
    "counts = Counter(parse)\n",
    "counts = counts.most_common()\n",
    "\n",
    "# 이 부분 한글 인코딩 안되므로 인코딩 해결 시 처리\n",
    "boundmorpheme = [\"은\", \"는\", \"이\", \"가\", \"을\", \"를\", \"로써\", \"에서\", \"에게서\", \"부터\", \"까지\", \"에게\", \"한테\", \"께\", \"와\", \"과\", \"의\", \"로서\", \"으로서\", \"로\", \"으로\"] # 조사\n",
    "# 인코딩이랑 한글 형태소 분할해서 자료조사좀 하자\n",
    "\n",
    "boundmorpheme = [\"a\", \"the\", \"an\", \"for\", \"and\" , \"nor\", \"but\", \"or\", \"yey\", \"so\", \"i\", \"we\", \"me\", \"us\", \"some\", \"how\", \"just\"]\n",
    "\n",
    "exceptions = boundmorpheme\n",
    "\n",
    "length = len(counts)\n",
    "newcount = []\n",
    "for i in range(length):\n",
    "    if counts[i][0] not in exceptions:\n",
    "        newcount.append(counts[i])\n",
    "\n",
    "counts_to_frame = pd.DataFrame(counts, columns = [\"Word\", \"Counts\"])\n",
    "countsum1 = sum(counts_to_frame[\"Counts\"])\n",
    "per1 = [(counts_to_frame[\"Counts\"][i]/countsum1) * 100 \\\n",
    "        for i in range(len(counts_to_frame))]\n",
    "counts_to_frame[\"Per\"] = np.array(per1)\n",
    "\n",
    "new_to_frame = pd.DataFrame(newcount, columns = [\"Word\", \"Counts\"])\n",
    "countsum2 = sum(new_to_frame[\"Counts\"])\n",
    "per2 = [(new_to_frame[\"Counts\"][i]/countsum2) * 100 \\\n",
    "        for i in range(len(new_to_frame))]\n",
    "new_to_frame[\"Per\"] = np.array(per2)\n",
    "\n",
    "print(new_to_frame)\n",
    "print(\"\"\"expect word 30 :\"\"\", new_to_frame[:30])\n",
    "\n",
    "# 예외 단어 30개\n",
    "fword = [newcount[i][0] for i in range(len(newcount))][:30]\n",
    "fnumber = [newcount[i][1] for i in range(len(newcount))][:30]\n",
    "fxs = [i for i, _ in enumerate(fword)]\n",
    "plt.bar(fxs, fnumber)\n",
    "plt.ylabel(\"단어 수\")\n",
    "plt.title(\"단어 계산 (예외)\")\n",
    "plt.xticks([i + 0.5 for i, _ in enumerate(fword)], fword, rotation = 90)\n",
    "plt.show()\n",
    "\n",
    "print(\"\"\"None expect word 30:\"\"\", counts_to_frame[:30])\n",
    "# 예외 되지 않은 단어 30개\n",
    "word = [counts[i][0] for i in range(len(counts))][:30]\n",
    "number = [counts[i][1] for i in range(len(counts))][:30]\n",
    "xs = [i for i, _ in enumerate(word)]\n",
    "plt.bar(xs, number)\n",
    "plt.ylabel(\"단어 수\")\n",
    "plt.title(\"단어 계산 (예외 안됨)\")\n",
    "plt.xticks([i + 0.5 for i, _ in enumerate(fword)], fword, rotation = 90)\n",
    "plt.show()\n",
    "\n",
    "#숫자 계산\n",
    "numcount = []\n",
    "for i in range(len(counts)):\n",
    "    try :\n",
    "        numcount.append((int(counts[i][0]), counts[i][1]))\n",
    "    except ValueError:\n",
    "        pass\n",
    "\n",
    "numcount_to_frame = pd.DataFrame(numcount[:30], columns=[\"Number\", \"Counts\"])\n",
    "numsum = sum(numcount_to_frame[\"Counts\"])\n",
    "per3 = [(numcount_to_frame[\"Counts\"][i]/numsum) * 100 \\\n",
    "        for i in range(len(numcount_to_frame))]\n",
    "numcount_to_frame[\"Per\"] = np.array(per3)\n",
    "print(\"\"\"word 30:\"\"\", numcount_to_frame)\n",
    "\n",
    "numcount = numcount[:30]\n",
    "num = [numcount[i][0] for i in range(len(numcount))][:30]\n",
    "xs = [i for i, _ in enumerate (numcount)]\n",
    "\n",
    "plt.bar(xs, numcount_to_frame[\"Counts\"])\n",
    "plt.ylabel(\"Counts\")\n",
    "plt.xticks([i + 0.5 for i, _ in enumerate (num)], num, rotation = 90)\n",
    "plt.title(\"단어 계산\")\n",
    "plt.show()"
   ]
  },
  {
   "cell_type": "code",
   "execution_count": null,
   "metadata": {},
   "outputs": [],
   "source": []
  }
 ],
 "metadata": {
  "kernelspec": {
   "display_name": "Python 3",
   "language": "python",
   "name": "python3"
  },
  "language_info": {
   "codemirror_mode": {
    "name": "ipython",
    "version": 3
   },
   "file_extension": ".py",
   "mimetype": "text/x-python",
   "name": "python",
   "nbconvert_exporter": "python",
   "pygments_lexer": "ipython3",
   "version": "3.7.3"
  }
 },
 "nbformat": 4,
 "nbformat_minor": 2
}
